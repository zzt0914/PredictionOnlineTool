{
  "cells": [
    {
      "cell_type": "code",
      "execution_count": 3,
      "metadata": {
        "colab": {
          "base_uri": "https://localhost:8080/"
        },
        "id": "E_o041lr6l65",
        "outputId": "acaf7b62-64fa-4395-ac95-32c506bc2232"
      },
      "outputs": [
        {
          "name": "stdout",
          "output_type": "stream",
          "text": [
            "[WinError 3] The system cannot find the path specified: '/content/drive/My Drive/MHC-peptide code + model'\n",
            "c:\\Users\\guanc\\Desktop\\Real_onlineTool\\prediction\n"
          ]
        }
      ],
      "source": [
        "# Directory\n",
        "import os\n",
        "%cd /content/drive/My Drive/MHC-peptide code + model\n"
      ]
    },
    {
      "cell_type": "code",
      "execution_count": 4,
      "metadata": {
        "id": "Wfe3A7b28jGS"
      },
      "outputs": [
        {
          "ename": "OSError",
          "evalue": "[Errno 22] Invalid argument: '--f=c:\\\\Users\\\\guanc\\\\AppData\\\\Roaming\\\\jupyter\\\\runtime\\\\kernel-v2-11604jqOFd1ATlKM0.json'",
          "output_type": "error",
          "traceback": [
            "\u001b[1;31m---------------------------------------------------------------------------\u001b[0m",
            "\u001b[1;31mOSError\u001b[0m                                   Traceback (most recent call last)",
            "Cell \u001b[1;32mIn[4], line 5\u001b[0m\n\u001b[0;32m      2\u001b[0m \u001b[38;5;28;01mimport\u001b[39;00m \u001b[38;5;21;01msys\u001b[39;00m\u001b[38;5;241m,\u001b[39m \u001b[38;5;21;01mre\u001b[39;00m\n\u001b[0;32m      3\u001b[0m file \u001b[38;5;241m=\u001b[39msys\u001b[38;5;241m.\u001b[39margv[\u001b[38;5;241m1\u001b[39m]\n\u001b[1;32m----> 5\u001b[0m f\u001b[38;5;241m=\u001b[39m\u001b[38;5;28;43mopen\u001b[39;49m\u001b[43m(\u001b[49m\u001b[43mfile\u001b[49m\u001b[43m,\u001b[49m\u001b[38;5;124;43m'\u001b[39;49m\u001b[38;5;124;43mr\u001b[39;49m\u001b[38;5;124;43m'\u001b[39;49m\u001b[43m)\u001b[49m \u001b[38;5;66;03m#insert .fasta file here\u001b[39;00m\n\u001b[0;32m      7\u001b[0m lines\u001b[38;5;241m=\u001b[39mf\u001b[38;5;241m.\u001b[39mreadlines()\n\u001b[0;32m      9\u001b[0m hre\u001b[38;5;241m=\u001b[39mre\u001b[38;5;241m.\u001b[39mcompile(\u001b[38;5;124m'\u001b[39m\u001b[38;5;124m>(\u001b[39m\u001b[38;5;124m\\\u001b[39m\u001b[38;5;124mS+)\u001b[39m\u001b[38;5;124m'\u001b[39m)\n",
            "File \u001b[1;32m~\\AppData\\Roaming\\Python\\Python310\\site-packages\\IPython\\core\\interactiveshell.py:284\u001b[0m, in \u001b[0;36m_modified_open\u001b[1;34m(file, *args, **kwargs)\u001b[0m\n\u001b[0;32m    277\u001b[0m \u001b[38;5;28;01mif\u001b[39;00m file \u001b[38;5;129;01min\u001b[39;00m {\u001b[38;5;241m0\u001b[39m, \u001b[38;5;241m1\u001b[39m, \u001b[38;5;241m2\u001b[39m}:\n\u001b[0;32m    278\u001b[0m     \u001b[38;5;28;01mraise\u001b[39;00m \u001b[38;5;167;01mValueError\u001b[39;00m(\n\u001b[0;32m    279\u001b[0m         \u001b[38;5;124mf\u001b[39m\u001b[38;5;124m\"\u001b[39m\u001b[38;5;124mIPython won\u001b[39m\u001b[38;5;124m'\u001b[39m\u001b[38;5;124mt let you open fd=\u001b[39m\u001b[38;5;132;01m{\u001b[39;00mfile\u001b[38;5;132;01m}\u001b[39;00m\u001b[38;5;124m by default \u001b[39m\u001b[38;5;124m\"\u001b[39m\n\u001b[0;32m    280\u001b[0m         \u001b[38;5;124m\"\u001b[39m\u001b[38;5;124mas it is likely to crash IPython. If you know what you are doing, \u001b[39m\u001b[38;5;124m\"\u001b[39m\n\u001b[0;32m    281\u001b[0m         \u001b[38;5;124m\"\u001b[39m\u001b[38;5;124myou can use builtins\u001b[39m\u001b[38;5;124m'\u001b[39m\u001b[38;5;124m open.\u001b[39m\u001b[38;5;124m\"\u001b[39m\n\u001b[0;32m    282\u001b[0m     )\n\u001b[1;32m--> 284\u001b[0m \u001b[38;5;28;01mreturn\u001b[39;00m io_open(file, \u001b[38;5;241m*\u001b[39margs, \u001b[38;5;241m*\u001b[39m\u001b[38;5;241m*\u001b[39mkwargs)\n",
            "\u001b[1;31mOSError\u001b[0m: [Errno 22] Invalid argument: '--f=c:\\\\Users\\\\guanc\\\\AppData\\\\Roaming\\\\jupyter\\\\runtime\\\\kernel-v2-11604jqOFd1ATlKM0.json'"
          ]
        }
      ],
      "source": [
        "# save .fasta to a python dictionary\n",
        "import sys, re\n",
        "file =sys.argv[1]\n",
        "\n",
        "f=open(file,'r') #insert .fasta file here\n",
        "\n",
        "lines=f.readlines()\n",
        "\n",
        "hre=re.compile('>(\\S+)')\n",
        "lre=re.compile('^(\\S+)$')\n",
        "\n",
        "gene={}\n",
        "\n",
        "for line in lines:\n",
        "        outh = hre.search(line)\n",
        "        if outh:\n",
        "                id=outh.group(1)\n",
        "        else:\n",
        "                outl=lre.search(line)\n",
        "                if(id in gene.keys()):\n",
        "                        gene[id] += outl.group(1)\n",
        "                else:\n",
        "                        gene[id]  =outl.group(1)\n",
        "\n",
        "# put key into 'res'\n",
        "res = list(gene.keys())"
      ]
    },
    {
      "cell_type": "code",
      "execution_count": null,
      "metadata": {
        "colab": {
          "base_uri": "https://localhost:8080/"
        },
        "id": "TzBAweoL8qBK",
        "outputId": "6aa4c312-a52c-4784-cc03-a63ceac5e97b"
      },
      "outputs": [],
      "source": [
        "pep = []\n",
        "length = sys.argv[2]\n",
        "# length = input(\"enter aa length\")\n",
        "\n",
        "#length = request.get_json(int(length));\n",
        "length = int(length)\n",
        "for x in range(0,len(gene)):\n",
        "  for i in range(0,len(gene[res[x]])-length+1):\n",
        "    pep.append(gene[res[x]][i:i+length])"
      ]
    },
    {
      "cell_type": "code",
      "execution_count": null,
      "metadata": {
        "colab": {
          "base_uri": "https://localhost:8080/"
        },
        "id": "eMAe9x9ZA5Vf",
        "outputId": "4e058a52-5952-47e0-b942-5f23d0acff5e"
      },
      "outputs": [
        {
          "name": "stdout",
          "output_type": "stream",
          "text": [
            "1335\n"
          ]
        }
      ],
      "source": [
        "print(len(pep))"
      ]
    },
    {
      "cell_type": "code",
      "execution_count": null,
      "metadata": {
        "id": "8rT06LtF_L8J"
      },
      "outputs": [],
      "source": [
        "#One hot encoding\n",
        "import os, sys, math\n",
        "import numpy as np\n",
        "import pandas as pd\n",
        "%matplotlib inline\n",
        "import matplotlib as mpl\n",
        "import matplotlib.pyplot as plt\n",
        "import seaborn as sns\n",
        "import tensorflow as tf"
      ]
    },
    {
      "cell_type": "code",
      "execution_count": null,
      "metadata": {
        "id": "HyrfSvAP_OWP"
      },
      "outputs": [],
      "source": [
        "codes = ['A', 'C', 'D', 'E', 'F', 'G', 'H', 'I', 'K', 'L',\n",
        "         'M', 'N', 'P', 'Q', 'R', 'S', 'T', 'V', 'W', 'Y']\n",
        "\n",
        "def show_matrix(m):\n",
        "    #display a matrix\n",
        "    cm = sns.light_palette(\"seagreen\", as_cmap=True)\n",
        "    display(m.style.background_gradient(cmap=cm))\n",
        "\n",
        "def one_hot_encode(seq):\n",
        "    o = list(set(codes) - set(seq))\n",
        "    s = pd.DataFrame(list(seq))\n",
        "    x = pd.DataFrame(np.zeros((len(seq),len(o)),dtype=int),columns=o)\n",
        "    a = s[0].str.get_dummies(sep=',')\n",
        "    a = a.join(x)\n",
        "    a = a.sort_index(axis=1)\n",
        "    #show_matrix(a)\n",
        "    e = a.values.flatten()\n",
        "    return e\n",
        "\n",
        "#pepe='ALDFEQEMT'\n",
        "#e=one_hot_encode(pepe)\n",
        "#e\n",
        "#print(len(e))"
      ]
    },
    {
      "cell_type": "code",
      "execution_count": null,
      "metadata": {
        "colab": {
          "base_uri": "https://localhost:8080/"
        },
        "id": "0bOtBvfEDJ-y",
        "outputId": "1d6229a9-d6f6-4638-bdb7-b85cc221cd98"
      },
      "outputs": [
        {
          "name": "stdout",
          "output_type": "stream",
          "text": [
            "1335\n"
          ]
        }
      ],
      "source": [
        "transDb9mer = []\n",
        "for i in pep:\n",
        "    e =  one_hot_encode(i)\n",
        "    transDb9mer.append(e)\n",
        "print(len(transDb9mer))\n"
      ]
    },
    {
      "cell_type": "code",
      "execution_count": null,
      "metadata": {
        "colab": {
          "base_uri": "https://localhost:8080/"
        },
        "id": "xKKwK-0EtHm2",
        "outputId": "9caf99d0-21ce-479c-bbda-cf2699d3b2ed"
      },
      "outputs": [
        {
          "name": "stdout",
          "output_type": "stream",
          "text": [
            "42/42 [==============================] - 0s 3ms/step\n"
          ]
        }
      ],
      "source": [
        "def runML(expr):\n",
        "  match expr:\n",
        "    case 'Db,8':\n",
        "      transDb8mer = []\n",
        "      for i in pep:\n",
        "        e =  one_hot_encode(i)\n",
        "        transDb8mer.append(e)\n",
        "      model = tf.keras.models.load_model('Db8mer.h5')\n",
        "      x_val = np.array(transDb8mer)\n",
        "      predictions = model.predict(x_val)\n",
        "      predictions = np.round(predictions, decimals=4)\n",
        "      return predictions\n",
        "    case 'Db,9':\n",
        "      transDb9mer = []\n",
        "      for i in pep:\n",
        "        e =  one_hot_encode(i)\n",
        "        transDb9mer.append(e)\n",
        "      model = tf.keras.models.load_model('Db9mer.h5')\n",
        "      x_val = np.array(transDb9mer)\n",
        "      predictions = model.predict(x_val)\n",
        "      predictions = np.round(predictions, decimals=4)\n",
        "      return predictions\n",
        "    case 'Db,10':\n",
        "      transDb10mer = []\n",
        "      for i in pep:\n",
        "        e =  one_hot_encode(i)\n",
        "        transDb10mer.append(e)\n",
        "      model = tf.keras.models.load_model('Db10mer.h5')\n",
        "      x_val = np.array(transDb10mer)\n",
        "      predictions = model.predict(x_val)\n",
        "      predictions = np.round(predictions, decimals=4)\n",
        "      return predictions\n",
        "    case 'Db,11':\n",
        "      transDb11mer = []\n",
        "      for i in pep:\n",
        "        e =  one_hot_encode(i)\n",
        "        transDb11mer.append(e)\n",
        "      model = tf.keras.models.load_model('Db11mer.h5')\n",
        "      x_val = np.array(transDb11mer)\n",
        "      predictions = model.predict(x_val)\n",
        "      predictions = np.round(predictions, decimals=4)\n",
        "      return predictions\n",
        "    case 'Kb,8':\n",
        "      transKb8mer = []\n",
        "      for i in pep:\n",
        "        e =  one_hot_encode(i)\n",
        "        transKb8mer.append(e)\n",
        "      model = tf.keras.models.load_model('Kb8mer.h5')\n",
        "      x_val = np.array(transKb8mer)\n",
        "      predictions = model.predict(x_val)\n",
        "      predictions = np.round(predictions, decimals=4)\n",
        "      return predictions\n",
        "    case 'Kb,9':\n",
        "      transKb9mer = []\n",
        "      for i in pep:\n",
        "        e =  one_hot_encode(i)\n",
        "        transKb9mer.append(e)\n",
        "      model = tf.keras.models.load_model('Kb9mer.h5')\n",
        "      x_val = np.array(transKb9mer)\n",
        "      predictions = model.predict(x_val)\n",
        "      predictions = np.round(predictions, decimals=4)\n",
        "      return predictions\n",
        "    case 'Kb,10':\n",
        "      transKb10mer = []\n",
        "      for i in pep:\n",
        "        e =  one_hot_encode(i)\n",
        "        transKb10mer.append(e)\n",
        "      model = tf.keras.models.load_model('Kb10mer.h5')\n",
        "      x_val = np.array(transKb10mer)\n",
        "      predictions = model.predict(x_val)\n",
        "      predictions = np.round(predictions, decimals=4)\n",
        "      return predictions\n",
        "    case 'Kb,11':\n",
        "      transKb11mer = []\n",
        "      for i in pep:\n",
        "        e =  one_hot_encode(i)\n",
        "        transKb11mer.append(e)\n",
        "      model = tf.keras.models.load_model('Kb11mer.h5')\n",
        "      x_val = np.array(transKb11mer)\n",
        "      predictions = model.predict(x_val)\n",
        "      predictions = np.round(predictions, decimals=4)\n",
        "      return predictions\n",
        "\n",
        "#x = runML('Kb,8') # edit here to use different model\n",
        "alleleinput = sys.argv[3]\n",
        "runML(alleleinput,',',length)\n"
      ]
    },
    {
      "cell_type": "code",
      "execution_count": null,
      "metadata": {
        "colab": {
          "base_uri": "https://localhost:8080/"
        },
        "id": "6YqhKaJ0reyZ",
        "outputId": "c02785c2-81af-43c0-ab26-f267cdcb9a9b"
      },
      "outputs": [
        {
          "data": {
            "text/plain": [
              "1335"
            ]
          },
          "execution_count": 18,
          "metadata": {},
          "output_type": "execute_result"
        }
      ],
      "source": [
        "len(x)"
      ]
    },
    {
      "cell_type": "code",
      "execution_count": null,
      "metadata": {
        "colab": {
          "base_uri": "https://localhost:8080/"
        },
        "id": "L5v6hvhBx6PH",
        "outputId": "e6b3a6fc-8655-46fc-9dd9-8626422822e4"
      },
      "outputs": [
        {
          "name": "stdout",
          "output_type": "stream",
          "text": [
            "1/1 [==============================] - 0s 358ms/step\n"
          ]
        }
      ],
      "source": [
        "transDb9mer = []\n",
        "for i in pep[0:4]:\n",
        "  e =  one_hot_encode(i)\n",
        "  transDb9mer.append(e)\n",
        "model = tf.keras.models.load_model('Kb8mer.h5')\n",
        "x_val = np.array(transDb9mer)\n",
        "predictions = model.predict(x_val)\n",
        "predictions = np.round(predictions, decimals=4)"
      ]
    },
    {
      "cell_type": "code",
      "execution_count": null,
      "metadata": {
        "colab": {
          "base_uri": "https://localhost:8080/"
        },
        "id": "Pi20LLf-yKUW",
        "outputId": "30d4a955-59af-4de8-fe84-36425a961898"
      },
      "outputs": [
        {
          "data": {
            "text/plain": [
              "['MSMKYLML', 'SMKYLMLL', 'MKYLMLLF', 'KYLMLLFA']"
            ]
          },
          "execution_count": 21,
          "metadata": {},
          "output_type": "execute_result"
        }
      ],
      "source": [
        "pep[0:4]"
      ]
    },
    {
      "cell_type": "code",
      "execution_count": null,
      "metadata": {
        "colab": {
          "base_uri": "https://localhost:8080/"
        },
        "id": "TUR49f6TyR-1",
        "outputId": "98bd74ae-4803-42ac-972b-e63d9b45f21c"
      },
      "outputs": [
        {
          "data": {
            "text/plain": [
              "array([[0.6826],\n",
              "       [0.0075],\n",
              "       [0.1294],\n",
              "       [0.013 ]], dtype=float32)"
            ]
          },
          "execution_count": 30,
          "metadata": {},
          "output_type": "execute_result"
        }
      ],
      "source": [
        "predictions"
      ]
    },
    {
      "cell_type": "code",
      "execution_count": null,
      "metadata": {
        "colab": {
          "base_uri": "https://localhost:8080/"
        },
        "id": "3VoBxduiy8MI",
        "outputId": "af6bdb79-18c9-4cec-b439-7efee54a1c41"
      },
      "outputs": [
        {
          "data": {
            "text/plain": [
              "(4, 180)"
            ]
          },
          "execution_count": 31,
          "metadata": {},
          "output_type": "execute_result"
        }
      ],
      "source": [
        "x_val.shape\n"
      ]
    },
    {
      "cell_type": "code",
      "execution_count": null,
      "metadata": {
        "id": "hbYRWY9DoZOs"
      },
      "outputs": [],
      "source": []
    }
  ],
  "metadata": {
    "colab": {
      "provenance": []
    },
    "kernelspec": {
      "display_name": "Python 3",
      "name": "python3"
    },
    "language_info": {
      "codemirror_mode": {
        "name": "ipython",
        "version": 3
      },
      "file_extension": ".py",
      "mimetype": "text/x-python",
      "name": "python",
      "nbconvert_exporter": "python",
      "pygments_lexer": "ipython3",
      "version": "3.10.11"
    }
  },
  "nbformat": 4,
  "nbformat_minor": 0
}
